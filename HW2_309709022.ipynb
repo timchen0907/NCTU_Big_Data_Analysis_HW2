{
 "cells": [
  {
   "cell_type": "code",
   "execution_count": 2,
   "id": "674a7715",
   "metadata": {},
   "outputs": [],
   "source": [
    "###########\n",
    "# 載入套件 #\n",
    "###########\n",
    "import findspark\n",
    "findspark.init()\n",
    "import pyspark\n",
    "findspark.find()\n",
    "import pandas as pd\n",
    "from pyspark import SparkContext\n",
    "from pyspark.sql import SQLContext, SparkSession\n",
    "from pyspark.sql.functions import *\n",
    "from pyspark.sql.types import *"
   ]
  },
  {
   "cell_type": "code",
   "execution_count": 3,
   "id": "64ca3294",
   "metadata": {},
   "outputs": [
    {
     "name": "stdout",
     "output_type": "stream",
     "text": [
      "目前正在處理 2001\n",
      "目前正在處理 2002\n",
      "目前正在處理 2003\n",
      "目前正在處理 2004\n",
      "目前正在處理 2005\n"
     ]
    }
   ],
   "source": [
    "############################\n",
    "# 建立Spark相關語法&讀取資料 #\n",
    "############################\n",
    "spark = SparkSession.builder\\\n",
    "    .appName(\"tim.com\")\\\n",
    "    .getOrCreate()\n",
    "Q1_data = spark.read.csv('./2007.csv', header = True, sep = ',')\n",
    "Q2_data = spark.read.csv(\"./2000.csv\", header = True, sep = \",\")\n",
    "Q2_ls= [\"2001\", \"2002\", \"2003\", \"2004\", \"2005\"]\n",
    "for i in Q2_ls:\n",
    "    tmp_data = spark.read.csv(\"./\"+i+\".csv\", header = True, sep = \",\")\n",
    "    Q2_data = Q2_data.union(tmp_data)\n",
    "    print(\"目前正在處理\",i)\n",
    "Q3_data = spark.read.csv('./2008.csv', header = True, sep = ',')"
   ]
  },
  {
   "cell_type": "code",
   "execution_count": 3,
   "id": "68d676ed",
   "metadata": {},
   "outputs": [
    {
     "name": "stdout",
     "output_type": "stream",
     "text": [
      "+-----+-------------+\n",
      "|Month|max(ArrDelay)|\n",
      "+-----+-------------+\n",
      "|    1|         1426|\n",
      "|    2|         1359|\n",
      "|    3|         1564|\n",
      "|    4|         1402|\n",
      "|    5|         1429|\n",
      "|    6|         1351|\n",
      "|    7|         1386|\n",
      "|    8|         1472|\n",
      "|    9|         1665|\n",
      "|   10|         2598|\n",
      "|   11|         1146|\n",
      "|   12|         1942|\n",
      "+-----+-------------+\n",
      "\n",
      "+-----+-------------+\n",
      "|Month|max(DepDelay)|\n",
      "+-----+-------------+\n",
      "|    1|         1406|\n",
      "|    2|         1340|\n",
      "|    3|         1547|\n",
      "|    4|         1415|\n",
      "|    5|         1416|\n",
      "|    6|         1360|\n",
      "|    7|         1369|\n",
      "|    8|         1449|\n",
      "|    9|         1689|\n",
      "|   10|         2601|\n",
      "|   11|         1137|\n",
      "|   12|         1956|\n",
      "+-----+-------------+\n",
      "\n",
      "+-----+-------------+-------------+-------------+\n",
      "|Month|max(ArrDelay)|max(DepDelay)|Maximal_Delay|\n",
      "+-----+-------------+-------------+-------------+\n",
      "|    1|         1426|         1406|         1426|\n",
      "|    2|         1359|         1340|         1359|\n",
      "|    3|         1564|         1547|         1564|\n",
      "|    4|         1402|         1415|         1415|\n",
      "|    5|         1429|         1416|         1429|\n",
      "|    6|         1351|         1360|         1360|\n",
      "|    7|         1386|         1369|         1386|\n",
      "|    8|         1472|         1449|         1472|\n",
      "|    9|         1665|         1689|         1689|\n",
      "|   10|         2598|         2601|         2601|\n",
      "|   11|         1146|         1137|         1146|\n",
      "|   12|         1942|         1956|         1956|\n",
      "+-----+-------------+-------------+-------------+\n",
      "\n"
     ]
    }
   ],
   "source": [
    "######\n",
    "# Q1 #\n",
    "######\n",
    "Q1_data.schema\n",
    "Q1_data = Q1_data.withColumn(\"Month\", col(\"Month\").cast(IntegerType()))\n",
    "Q1_data = Q1_data.withColumn(\"ArrDelay\", col(\"ArrDelay\").cast(IntegerType()))\n",
    "Q1_data = Q1_data.withColumn(\"DepDelay\", col(\"DepDelay\").cast(IntegerType()))\n",
    "Q1_data.groupby(\"Month\").max(\"ArrDelay\").sort(\"Month\", ascending = True).show(n = 12)\n",
    "Q1_data.groupby(\"Month\").max(\"DepDelay\").sort(\"Month\", ascending = True).show(n = 12)\n",
    "Q1_both = Q1_data.groupby(\"Month\").max(\"ArrDelay\",\"DepDelay\").sort(\"Month\", ascending = True)\n",
    "Q1_both.withColumn(\"Maximal_Delay\", greatest(\"max(ArrDelay)\", \"max(DepDelay)\")).show(n=12)\n"
   ]
  },
  {
   "cell_type": "code",
   "execution_count": 4,
   "id": "98c11cea",
   "metadata": {
    "scrolled": true
   },
   "outputs": [
    {
     "name": "stdout",
     "output_type": "stream",
     "text": [
      "+----+-----+\n",
      "|Year|count|\n",
      "+----+-----+\n",
      "|2003| 3740|\n",
      "|2004| 8158|\n",
      "|2005| 6627|\n",
      "+----+-----+\n",
      "\n"
     ]
    }
   ],
   "source": [
    "######\n",
    "# Q2 #\n",
    "######\n",
    "# Q2_data.show() # 確認資料欄位代號\n",
    "# Q2_data.groupBy(\"_c27\").count().show() # 確認需要移除的值\n",
    "Q2_data = Q2_data.withColumn(\"Year\", col(\"Year\").cast(IntegerType()))\n",
    "Q2_data_filter = Q2_data.filter(Q2_data[\"SecurityDelay\"] != \"NA\")\n",
    "Q2_data_filter = Q2_data_filter.filter(Q2_data_filter[\"SecurityDelay\"] != 0)\n",
    "Q2_data_filter.groupby(\"Year\").count().sort(\"Year\", ascending = True).show()"
   ]
  },
  {
   "cell_type": "code",
   "execution_count": 4,
   "id": "b3d379fe",
   "metadata": {},
   "outputs": [
    {
     "name": "stdout",
     "output_type": "stream",
     "text": [
      "+----+------+\n",
      "|Dest| count|\n",
      "+----+------+\n",
      "| ATL|187243|\n",
      "| ORD|151871|\n",
      "| DFW|119817|\n",
      "| DEN|102681|\n",
      "| LAX| 93508|\n",
      "+----+------+\n",
      "only showing top 5 rows\n",
      "\n",
      "+----+-----+\n",
      "|Dest|count|\n",
      "+----+-----+\n",
      "| TUP|    2|\n",
      "| PIR|    4|\n",
      "| BJI|   12|\n",
      "| INL|   17|\n",
      "| SUX|   35|\n",
      "+----+-----+\n",
      "only showing top 5 rows\n",
      "\n",
      "+------+------+\n",
      "|Origin| count|\n",
      "+------+------+\n",
      "|   ATL|175017|\n",
      "|   ORD|159427|\n",
      "|   DFW|127749|\n",
      "|   DEN|104414|\n",
      "|   LAX| 87258|\n",
      "+------+------+\n",
      "only showing top 5 rows\n",
      "\n",
      "+------+-----+\n",
      "|Origin|count|\n",
      "+------+-----+\n",
      "|   INL|    1|\n",
      "|   TUP|    1|\n",
      "|   PUB|    2|\n",
      "|   PIR|    3|\n",
      "|   BJI|    4|\n",
      "+------+-----+\n",
      "only showing top 5 rows\n",
      "\n"
     ]
    }
   ],
   "source": [
    "######\n",
    "# Q3 #\n",
    "######\n",
    "Q3_1_data = Q3_data.filter(Q3_data[\"ArrDelay\"] > 0)\n",
    "Q3_1_data.groupby(\"Dest\").count().sort(\"count\", ascending = False).show(n = 5)\n",
    "Q3_1_data.groupby(\"Dest\").count().sort(\"count\", ascending = True).show(n = 5)\n",
    "Q3_2_data = Q3_data.filter(Q3_data[\"DepDelay\"] > 0)\n",
    "Q3_2_data.groupby(\"Origin\").count().sort(\"count\", ascending = False).show(n = 5)\n",
    "Q3_2_data.groupby(\"Origin\").count().sort(\"count\", ascending = True).show(n = 5)"
   ]
  },
  {
   "cell_type": "code",
   "execution_count": null,
   "id": "b5bb02e9",
   "metadata": {},
   "outputs": [],
   "source": []
  }
 ],
 "metadata": {
  "kernelspec": {
   "display_name": "Python 3 (ipykernel)",
   "language": "python",
   "name": "python3"
  },
  "language_info": {
   "codemirror_mode": {
    "name": "ipython",
    "version": 3
   },
   "file_extension": ".py",
   "mimetype": "text/x-python",
   "name": "python",
   "nbconvert_exporter": "python",
   "pygments_lexer": "ipython3",
   "version": "3.8.11"
  }
 },
 "nbformat": 4,
 "nbformat_minor": 5
}
